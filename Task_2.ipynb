{
  "nbformat": 4,
  "nbformat_minor": 0,
  "metadata": {
    "colab": {
      "provenance": []
    },
    "kernelspec": {
      "name": "python3",
      "display_name": "Python 3"
    },
    "language_info": {
      "name": "python"
    }
  },
  "cells": [
    {
      "cell_type": "code",
      "execution_count": 1,
      "metadata": {
        "colab": {
          "base_uri": "https://localhost:8080/",
          "height": 563
        },
        "id": "5awx0d9tKkXx",
        "outputId": "46974a4d-d629-49e5-bdb8-c0550687ff03"
      },
      "outputs": [
        {
          "output_type": "stream",
          "name": "stdout",
          "text": [
            "Downloading data from https://storage.googleapis.com/tensorflow/tf-keras-datasets/mnist.npz\n",
            "\u001b[1m11490434/11490434\u001b[0m \u001b[32m━━━━━━━━━━━━━━━━━━━━\u001b[0m\u001b[37m\u001b[0m \u001b[1m0s\u001b[0m 0us/step\n"
          ]
        },
        {
          "output_type": "stream",
          "name": "stderr",
          "text": [
            "/usr/local/lib/python3.12/dist-packages/keras/src/layers/convolutional/base_conv.py:113: UserWarning: Do not pass an `input_shape`/`input_dim` argument to a layer. When using Sequential models, prefer using an `Input(shape)` object as the first layer in the model instead.\n",
            "  super().__init__(activity_regularizer=activity_regularizer, **kwargs)\n"
          ]
        },
        {
          "output_type": "stream",
          "name": "stdout",
          "text": [
            "Epoch 1/5\n",
            "844/844 - 32s - 37ms/step - accuracy: 0.9448 - loss: 0.1863 - val_accuracy: 0.9853 - val_loss: 0.0541\n",
            "Epoch 2/5\n",
            "844/844 - 29s - 35ms/step - accuracy: 0.9829 - loss: 0.0548 - val_accuracy: 0.9880 - val_loss: 0.0430\n",
            "Epoch 3/5\n",
            "844/844 - 42s - 49ms/step - accuracy: 0.9885 - loss: 0.0371 - val_accuracy: 0.9883 - val_loss: 0.0415\n",
            "Epoch 4/5\n",
            "844/844 - 29s - 35ms/step - accuracy: 0.9908 - loss: 0.0293 - val_accuracy: 0.9903 - val_loss: 0.0360\n",
            "Epoch 5/5\n",
            "844/844 - 41s - 49ms/step - accuracy: 0.9929 - loss: 0.0226 - val_accuracy: 0.9887 - val_loss: 0.0388\n",
            "313/313 - 2s - 7ms/step - accuracy: 0.9868 - loss: 0.0402\n",
            "\n",
            "✅ Test Accuracy: 98.68%\n",
            "🎯 Goal achieved! Test accuracy exceeds 95%.\n",
            "\u001b[1m1/1\u001b[0m \u001b[32m━━━━━━━━━━━━━━━━━━━━\u001b[0m\u001b[37m\u001b[0m \u001b[1m0s\u001b[0m 84ms/step\n"
          ]
        },
        {
          "output_type": "display_data",
          "data": {
            "text/plain": [
              "<Figure size 1000x300 with 5 Axes>"
            ],
            "image/png": "[encoded data removed]"
          },
          "metadata": {}
        }
      ],
      "source": [
        "# ============================================\n",
        "# Task 2: Deep Learning with TensorFlow\n",
        "# Dataset: MNIST Handwritten Digits\n",
        "# Goal: Build a CNN to classify digits & achieve >95% accuracy\n",
        "# ============================================\n",
        "\n",
        "# 1️⃣ Import required libraries\n",
        "import tensorflow as tf\n",
        "from tensorflow.keras import datasets, layers, models\n",
        "import matplotlib.pyplot as plt\n",
        "import numpy as np\n",
        "\n",
        "# 2️⃣ Load and preprocess the MNIST dataset\n",
        "# MNIST: 60,000 training and 10,000 testing images (28x28 grayscale)\n",
        "(X_train, y_train), (X_test, y_test) = datasets.mnist.load_data()\n",
        "\n",
        "# Normalize pixel values to range [0, 1]\n",
        "X_train = X_train.astype('float32') / 255.0\n",
        "X_test = X_test.astype('float32') / 255.0\n",
        "\n",
        "# Add a channel dimension (CNN expects 4D input: batch, height, width, channels)\n",
        "X_train = np.expand_dims(X_train, -1)\n",
        "X_test = np.expand_dims(X_test, -1)\n",
        "\n",
        "# 3️⃣ Build the CNN model\n",
        "model = models.Sequential([\n",
        "    layers.Conv2D(32, (3, 3), activation='relu', input_shape=(28, 28, 1)),  # Convolutional layer\n",
        "    layers.MaxPooling2D((2, 2)),                                            # Down-sampling\n",
        "    layers.Conv2D(64, (3, 3), activation='relu'),                           # Deeper feature extraction\n",
        "    layers.MaxPooling2D((2, 2)),\n",
        "    layers.Flatten(),                                                       # Flatten to 1D vector\n",
        "    layers.Dense(64, activation='relu'),                                    # Fully connected layer\n",
        "    layers.Dense(10, activation='softmax')                                  # Output layer (10 digits)\n",
        "])\n",
        "\n",
        "# 4️⃣ Compile the model\n",
        "model.compile(\n",
        "    optimizer='adam',\n",
        "    loss='sparse_categorical_crossentropy',\n",
        "    metrics=['accuracy']\n",
        ")\n",
        "\n",
        "# 5️⃣ Train the model\n",
        "history = model.fit(\n",
        "    X_train, y_train,\n",
        "    epochs=5,\n",
        "    batch_size=64,\n",
        "    validation_split=0.1,\n",
        "    verbose=2\n",
        ")\n",
        "\n",
        "# 6️⃣ Evaluate the model on test data\n",
        "test_loss, test_acc = model.evaluate(X_test, y_test, verbose=2)\n",
        "print(f\"\\n✅ Test Accuracy: {test_acc * 100:.2f}%\")\n",
        "\n",
        "# Ensure performance >95%\n",
        "if test_acc >= 0.95:\n",
        "    print(\"🎯 Goal achieved! Test accuracy exceeds 95%.\")\n",
        "else:\n",
        "    print(\"⚠️ Model below target accuracy — consider increasing epochs or tuning layers.\")\n",
        "\n",
        "# 7️⃣ Visualize model predictions on 5 sample test images\n",
        "num_samples = 5\n",
        "sample_images = X_test[:num_samples]\n",
        "sample_labels = y_test[:num_samples]\n",
        "predictions = model.predict(sample_images)\n",
        "\n",
        "plt.figure(figsize=(10, 3))\n",
        "for i in range(num_samples):\n",
        "    plt.subplot(1, num_samples, i + 1)\n",
        "    plt.imshow(sample_images[i].reshape(28, 28), cmap='gray')\n",
        "    plt.title(f\"Pred: {np.argmax(predictions[i])}\\nTrue: {sample_labels[i]}\")\n",
        "    plt.axis('off')\n",
        "plt.show()\n"
      ]
    }
  ]
}