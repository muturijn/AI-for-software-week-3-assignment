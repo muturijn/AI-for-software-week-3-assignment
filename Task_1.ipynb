{
  "nbformat": 4,
  "nbformat_minor": 0,
  "metadata": {
    "colab": {
      "provenance": []
    },
    "kernelspec": {
      "name": "python3",
      "display_name": "Python 3"
    },
    "language_info": {
      "name": "python"
    }
  },
  "cells": [
    {
      "cell_type": "code",
      "execution_count": 1,
      "metadata": {
        "colab": {
          "base_uri": "https://localhost:8080/"
        },
        "id": "RK8wILDqJcUE",
        "outputId": "5540fcd7-9d8a-4a29-e7e5-2e18ab48867a"
      },
      "outputs": [
        {
          "output_type": "stream",
          "name": "stdout",
          "text": [
            "Model Performance Metrics:\n",
            "----------------------------\n",
            "Accuracy:  1.0000\n",
            "Precision: 1.0000\n",
            "Recall:    1.0000\n",
            "\n",
            "Classification Report:\n",
            "              precision    recall  f1-score   support\n",
            "\n",
            "      setosa       1.00      1.00      1.00        19\n",
            "  versicolor       1.00      1.00      1.00        13\n",
            "   virginica       1.00      1.00      1.00        13\n",
            "\n",
            "    accuracy                           1.00        45\n",
            "   macro avg       1.00      1.00      1.00        45\n",
            "weighted avg       1.00      1.00      1.00        45\n",
            "\n"
          ]
        }
      ],
      "source": [
        "# ============================================\n",
        "# Task 1: Classical ML with Scikit-learn\n",
        "# Dataset: Iris Species Dataset\n",
        "# Goal: Predict iris species using a Decision Tree Classifier\n",
        "# ============================================\n",
        "\n",
        "# 1️⃣ Import necessary libraries\n",
        "from sklearn import datasets                          # Load built-in datasets such as Iris\n",
        "from sklearn.model_selection import train_test_split  # Split data into training/testing sets\n",
        "from sklearn.preprocessing import StandardScaler, LabelEncoder  # Scale features and encode labels\n",
        "from sklearn.tree import DecisionTreeClassifier       # Decision Tree algorithm\n",
        "from sklearn.metrics import accuracy_score, precision_score, recall_score, classification_report\n",
        "import numpy as np                                    # For handling arrays\n",
        "import pandas as pd                                   # For handling data in tabular form\n",
        "\n",
        "# 2️⃣ Load the Iris dataset\n",
        "iris = datasets.load_iris()\n",
        "\n",
        "# Convert to DataFrame for easier preprocessing\n",
        "df = pd.DataFrame(data=iris.data, columns=iris.feature_names)\n",
        "df['species'] = iris.target\n",
        "\n",
        "# 3️⃣ Check for missing values\n",
        "# (Although Iris dataset has no missing values, we handle it generally.)\n",
        "if df.isnull().sum().any():\n",
        "    df.fillna(df.mean(), inplace=True)  # Fill numeric missing values with column mean\n",
        "\n",
        "# 4️⃣ Encode labels (if they were text — here they are numeric already)\n",
        "# This step is shown for completeness\n",
        "label_encoder = LabelEncoder()\n",
        "df['species'] = label_encoder.fit_transform(df['species'])\n",
        "\n",
        "# 5️⃣ Separate features (X) and target (y)\n",
        "X = df.iloc[:, :-1].values  # Feature columns\n",
        "y = df.iloc[:, -1].values   # Target column\n",
        "\n",
        "# 6️⃣ Split the dataset into training and testing sets\n",
        "X_train, X_test, y_train, y_test = train_test_split(\n",
        "    X, y, test_size=0.3, random_state=42\n",
        ")\n",
        "\n",
        "# 7️⃣ (Optional but good practice) Standardize the features\n",
        "scaler = StandardScaler()\n",
        "X_train = scaler.fit_transform(X_train)\n",
        "X_test = scaler.transform(X_test)\n",
        "\n",
        "# 8️⃣ Instantiate and train the Decision Tree Classifier\n",
        "# You can tune hyperparameters like criterion='entropy' or max_depth=3\n",
        "clf = DecisionTreeClassifier(random_state=42)\n",
        "clf.fit(X_train, y_train)\n",
        "\n",
        "# 9️⃣ Make predictions on the test set\n",
        "y_pred = clf.predict(X_test)\n",
        "\n",
        "# 🔟 Evaluate the model using multiple metrics\n",
        "accuracy = accuracy_score(y_test, y_pred)\n",
        "precision = precision_score(y_test, y_pred, average='macro')  # Macro = treats all classes equally\n",
        "recall = recall_score(y_test, y_pred, average='macro')\n",
        "\n",
        "print(\"Model Performance Metrics:\")\n",
        "print(\"----------------------------\")\n",
        "print(f\"Accuracy:  {accuracy:.4f}\")\n",
        "print(f\"Precision: {precision:.4f}\")\n",
        "print(f\"Recall:    {recall:.4f}\")\n",
        "\n",
        "# 1️⃣1️⃣ Detailed classification report\n",
        "print(\"\\nClassification Report:\")\n",
        "print(classification_report(y_test, y_pred, target_names=iris.target_names))\n"
      ]
    }
  ]
}