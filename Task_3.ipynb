{
  "nbformat": 4,
  "nbformat_minor": 0,
  "metadata": {
    "colab": {
      "provenance": []
    },
    "kernelspec": {
      "name": "python3",
      "display_name": "Python 3"
    },
    "language_info": {
      "name": "python"
    }
  },
  "cells": [
    {
      "cell_type": "code",
      "execution_count": 1,
      "metadata": {
        "colab": {
          "base_uri": "https://localhost:8080/"
        },
        "id": "2isqgAcaL9Ta",
        "outputId": "09e6baf4-aa00-4650-e6c1-12f4c1197acb"
      },
      "outputs": [
        {
          "output_type": "stream",
          "name": "stdout",
          "text": [
            "\n",
            "📝 Review 1: I love the new Samsung Galaxy S24 — the camera quality is outstanding!\n",
            "🔹 Extracted Entities: [('Samsung Galaxy S24', 'ORG')]\n",
            "💬 Sentiment: Positive (score=0.42)\n",
            "\n",
            "📝 Review 2: The Apple MacBook Air is fast but too expensive for what it offers.\n",
            "🔹 Extracted Entities: [('The Apple MacBook Air', 'ORG')]\n",
            "💬 Sentiment: Negative (score=-0.07)\n",
            "\n",
            "📝 Review 3: I’m really disappointed with this HP laptop. The battery dies in two hours!\n",
            "🔹 Extracted Entities: [('HP', 'ORG')]\n",
            "💬 Sentiment: Negative (score=-0.94)\n",
            "\n",
            "📝 Review 4: The Sony headphones have amazing sound and noise cancellation.\n",
            "🔹 Extracted Entities: [('Sony', 'ORG')]\n",
            "💬 Sentiment: Positive (score=0.50)\n",
            "\n",
            "📝 Review 5: The Nike Air Max shoes are very comfortable and stylish.\n",
            "🔹 Extracted Entities: None detected\n",
            "💬 Sentiment: Positive (score=0.51)\n"
          ]
        }
      ],
      "source": [
        "# ============================================\n",
        "# Task 3: NLP with spaCy\n",
        "# Dataset: Sample Amazon Product Reviews\n",
        "# Goal: Extract product/brand entities and analyze sentiment\n",
        "# ============================================\n",
        "\n",
        "# 1️⃣ Import required libraries\n",
        "import spacy\n",
        "from textblob import TextBlob  # For quick rule-based sentiment analysis\n",
        "\n",
        "# 2️⃣ Load a pre-trained English NLP model from spaCy\n",
        "# Make sure you've run: python -m spacy download en_core_web_sm (if not already installed)\n",
        "nlp = spacy.load(\"en_core_web_sm\")\n",
        "\n",
        "# 3️⃣ Sample Amazon reviews dataset (you can replace with real data)\n",
        "reviews = [\n",
        "    \"I love the new Samsung Galaxy S24 — the camera quality is outstanding!\",\n",
        "    \"The Apple MacBook Air is fast but too expensive for what it offers.\",\n",
        "    \"I’m really disappointed with this HP laptop. The battery dies in two hours!\",\n",
        "    \"The Sony headphones have amazing sound and noise cancellation.\",\n",
        "    \"The Nike Air Max shoes are very comfortable and stylish.\"\n",
        "]\n",
        "\n",
        "# 4️⃣ Function to perform NER and sentiment analysis\n",
        "def analyze_review(review_text):\n",
        "    doc = nlp(review_text)\n",
        "\n",
        "    # Extract named entities (focus on products and brands)\n",
        "    entities = [(ent.text, ent.label_) for ent in doc.ents if ent.label_ in [\"ORG\", \"PRODUCT\"]]\n",
        "\n",
        "    # Compute sentiment polarity using TextBlob\n",
        "    sentiment_score = TextBlob(review_text).sentiment.polarity\n",
        "    if sentiment_score > 0:\n",
        "        sentiment = \"Positive\"\n",
        "    elif sentiment_score < 0:\n",
        "        sentiment = \"Negative\"\n",
        "    else:\n",
        "        sentiment = \"Neutral\"\n",
        "\n",
        "    return entities, sentiment, sentiment_score\n",
        "\n",
        "# 5️⃣ Analyze each review and display results\n",
        "for i, review in enumerate(reviews, start=1):\n",
        "    entities, sentiment, score = analyze_review(review)\n",
        "    print(f\"\\n📝 Review {i}: {review}\")\n",
        "    print(f\"🔹 Extracted Entities: {entities if entities else 'None detected'}\")\n",
        "    print(f\"💬 Sentiment: {sentiment} (score={score:.2f})\")\n",
        "\n"
      ]
    }
  ]
}